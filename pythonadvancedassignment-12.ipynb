{
 "cells": [
  {
   "cell_type": "markdown",
   "id": "7f1403bd",
   "metadata": {},
   "source": [
    "Q1. Does assigning a value to a string&#39;s indexed character violate Python&#39;s string immutability?\n",
    "\n",
    "Q2. Does using the += operator to concatenate strings violate Python&#39;s string immutability? Why or\n",
    "why not?\n",
    "\n",
    "Q3. In Python, how many different ways are there to index a character?\n",
    "\n",
    "Q4. What is the relationship between indexing and slicing?\n",
    "\n",
    "Q5. What is an indexed character&#39;s exact data type? What is the data form of a slicing-generated\n",
    "substring?\n",
    "\n",
    "Q6. What is the relationship between string and character &quot;types&quot; in Python?\n",
    "\n",
    "Q7. Identify at least two operators and one method that allow you to combine one or more smaller\n",
    "strings to create a larger string.\n",
    "\n",
    "Q8. What is the benefit of first checking the target string with in or not in before using the index\n",
    "method to find a substring?\n",
    "\n",
    "Q9. Which operators and built-in string methods produce simple Boolean (true/false) results?"
   ]
  },
  {
   "cell_type": "code",
   "execution_count": null,
   "id": "4ae82d73",
   "metadata": {},
   "outputs": [],
   "source": []
  },
  {
   "cell_type": "code",
   "execution_count": null,
   "id": "23a5baed",
   "metadata": {},
   "outputs": [],
   "source": [
    "1.yes, because strings are immutable."
   ]
  },
  {
   "cell_type": "code",
   "execution_count": null,
   "id": "2ae570c7",
   "metadata": {},
   "outputs": [],
   "source": [
    "2.Using += to concatenate strings does not violate pythons rule"
   ]
  },
  {
   "cell_type": "code",
   "execution_count": null,
   "id": "a5922b4e",
   "metadata": {},
   "outputs": [],
   "source": [
    "3. TWO ways: positive indexing, negative indexing"
   ]
  },
  {
   "cell_type": "code",
   "execution_count": null,
   "id": "c1d41e21",
   "metadata": {},
   "outputs": [],
   "source": [
    "4.In indexing we get only one value but in slicing we get range of value."
   ]
  },
  {
   "cell_type": "code",
   "execution_count": null,
   "id": "8152a166",
   "metadata": {},
   "outputs": [],
   "source": [
    "5.string datatype"
   ]
  },
  {
   "cell_type": "code",
   "execution_count": null,
   "id": "14dee0e1",
   "metadata": {},
   "outputs": [],
   "source": [
    "6.objects that contain sequence of character is called string"
   ]
  },
  {
   "cell_type": "markdown",
   "id": "d0fd3d88",
   "metadata": {},
   "source": [
    "7. +, +=,* is used to combine smmaller strings into larger one."
   ]
  },
  {
   "cell_type": "markdown",
   "id": "b15af981",
   "metadata": {},
   "source": [
    "8.It will avoid the value error"
   ]
  },
  {
   "cell_type": "markdown",
   "id": "d12fdc7c",
   "metadata": {},
   "source": [
    "9.operator: in and not.\n",
    "  built_in string method:<string>.isalpha(),<string>.isalnum(),<string>.isdecimal(),<string>.islower(),<string>.isnumeric(),<string>.isspace(),<string>.istitle()"
   ]
  }
 ],
 "metadata": {
  "kernelspec": {
   "display_name": "Python 3 (ipykernel)",
   "language": "python",
   "name": "python3"
  },
  "language_info": {
   "codemirror_mode": {
    "name": "ipython",
    "version": 3
   },
   "file_extension": ".py",
   "mimetype": "text/x-python",
   "name": "python",
   "nbconvert_exporter": "python",
   "pygments_lexer": "ipython3",
   "version": "3.9.12"
  }
 },
 "nbformat": 4,
 "nbformat_minor": 5
}
